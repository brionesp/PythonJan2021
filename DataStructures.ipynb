{
 "cells": [
  {
   "cell_type": "markdown",
   "source": [
    "### DataStructures\n",
    "Data comes in many forms and shapes. Some data is structured, Unstructured , Audio, Video, Images, Raw Binary Files, High Volume Datasets, and Time Series Datasets.  [IOT - Internet of Things].\n",
    "\n",
    "Pandas: This module works mainly with tabular data. Provides tools like DataFrame and Series, which is mainly used for analyzing data. You can use this for a Proof of Concepts build.\n",
    "MPP architecture is provided by: https://dask.org/\n",
    "\n",
    "NumPy: Numerical Python. Module offers a powerful object called Array. NumPy is better for 500K rows or more. This offers a better analysis using multi-dimensional arrays. NumPy consumes less memory as compared to Pandas.\n",
    "- Array in computer science is a datastructure consisting of elements, each element is identified by at least one array index or key. Arrays are optimized for Memory.\n",
    "- Numpy Arrays are 30 times faster than Pandas\n",
    "- Numpy Arrays consumes less memory as compared to Pandas\n",
    "- Numpy provides a multi-dimensional array"
   ],
   "metadata": {}
  },
  {
   "cell_type": "markdown",
   "source": [
    "## Creating a Vector"
   ],
   "metadata": {}
  },
  {
   "cell_type": "code",
   "execution_count": 1,
   "source": [
    "# Load a library to create a One-Dimensional Array\r\n",
    "import numpy as np\r\n",
    "\r\n",
    "# Create a Vector as a row\r\n",
    "vector_row = np.array([1, 2, 3])\r\n",
    "vector_row"
   ],
   "outputs": [
    {
     "output_type": "execute_result",
     "data": {
      "text/plain": [
       "array([1, 2, 3])"
      ]
     },
     "metadata": {},
     "execution_count": 1
    }
   ],
   "metadata": {}
  },
  {
   "cell_type": "code",
   "execution_count": 2,
   "source": [
    "# Create a Vector as a Column\r\n",
    "vector_column = np.array([[1],\r\n",
    "                         [2],\r\n",
    "                         [3]])\r\n"
   ],
   "outputs": [],
   "metadata": {}
  },
  {
   "cell_type": "markdown",
   "source": [
    "## Creating a Matrix"
   ],
   "metadata": {}
  },
  {
   "cell_type": "code",
   "execution_count": 3,
   "source": [
    "# Use NymPy to create a two-dimensional array:\r\n",
    "import numpy as np\r\n",
    "# Create a matrix\r\n",
    "matrix = np.array([[1, 2],\r\n",
    "                  [1, 2],\r\n",
    "                  [1, 2]])"
   ],
   "outputs": [],
   "metadata": {}
  },
  {
   "cell_type": "code",
   "execution_count": 4,
   "source": [
    "matrix"
   ],
   "outputs": [
    {
     "output_type": "execute_result",
     "data": {
      "text/plain": [
       "array([[1, 2],\n",
       "       [1, 2],\n",
       "       [1, 2]])"
      ]
     },
     "metadata": {},
     "execution_count": 4
    }
   ],
   "metadata": {}
  },
  {
   "cell_type": "code",
   "execution_count": 5,
   "source": [
    "# Create a sparse Matrix\r\n",
    "import numpy as np\r\n",
    "from scipy import sparse\r\n",
    "# Create a matrix\r\n",
    "matrix = np.array([[0, 0],\r\n",
    "                 [0, 1],\r\n",
    "                 [3, 0]])\r\n",
    "# Create a compressed sparse row (CSR) matrix\r\n",
    "matrix_sparse = sparse.csr_matrix(matrix)\r\n",
    "matrix_sparse"
   ],
   "outputs": [
    {
     "output_type": "execute_result",
     "data": {
      "text/plain": [
       "<3x2 sparse matrix of type '<class 'numpy.intc'>'\n",
       "\twith 2 stored elements in Compressed Sparse Row format>"
      ]
     },
     "metadata": {},
     "execution_count": 5
    }
   ],
   "metadata": {}
  },
  {
   "cell_type": "code",
   "execution_count": 6,
   "source": [
    "# Example for a sparse matrix:\r\n",
    "'''\r\n",
    "Imagine a matrix where the columns are every movie on Netflix, the rows are every Netflix user,\r\n",
    "and the values are how many times a user has watched that particular movie. \r\n",
    "'''\r\n",
    "print(matrix_sparse)"
   ],
   "outputs": [
    {
     "output_type": "stream",
     "name": "stdout",
     "text": [
      "  (1, 1)\t1\n",
      "  (2, 0)\t3\n"
     ]
    }
   ],
   "metadata": {}
  },
  {
   "cell_type": "code",
   "execution_count": 7,
   "source": [
    "# Create a larger Matrix\r\n",
    "matrix_large = np.array([[0, 0, 0, 0, 0, 0, 0, 0, 0],\r\n",
    "                        [0, 1, 0, 0, 0, 0, 0, 0, 0],\r\n",
    "                        [3, 0, 0, 0, 0, 0, 0, 0, 0]])\r\n",
    "# Create compressed sparse row (CSR) matrix\r\n",
    "matrix_large_sparse = sparse.csr_matrix(matrix_large)\r\n",
    "\r\n",
    "# Print Original sparse matrix\r\n",
    "print(matrix_sparse)"
   ],
   "outputs": [
    {
     "output_type": "stream",
     "name": "stdout",
     "text": [
      "  (1, 1)\t1\n",
      "  (2, 0)\t3\n"
     ]
    }
   ],
   "metadata": {}
  },
  {
   "cell_type": "code",
   "execution_count": 8,
   "source": [
    "# Print large sparse matrix\r\n",
    "print(matrix_large_sparse)"
   ],
   "outputs": [
    {
     "output_type": "stream",
     "name": "stdout",
     "text": [
      "  (1, 1)\t1\n",
      "  (2, 0)\t3\n"
     ]
    }
   ],
   "metadata": {}
  },
  {
   "cell_type": "code",
   "execution_count": 9,
   "source": [
    "# Problem statement: You need to select one or more elements in a vector or matrix\r\n",
    "# NumPy arrays make it an easy process to access elements.\r\n",
    "import numpy as np\r\n",
    "# Create a row vector\r\n",
    "vector = np.array([1, 2, 3, 4, 5, 6])\r\n",
    "\r\n",
    "# Create a Matrix\r\n",
    "matrix = np.array([[1, 2, 3],\r\n",
    "                   [4, 5, 6],\r\n",
    "                   [7, 8, 9]])\r\n",
    "# Select third element of a vector\r\n",
    "vector[2]"
   ],
   "outputs": [
    {
     "output_type": "execute_result",
     "data": {
      "text/plain": [
       "3"
      ]
     },
     "metadata": {},
     "execution_count": 9
    }
   ],
   "metadata": {}
  },
  {
   "cell_type": "code",
   "execution_count": null,
   "source": [],
   "outputs": [],
   "metadata": {}
  }
 ],
 "metadata": {
  "kernelspec": {
   "name": "python3",
   "display_name": "Python 3.8.5 64-bit ('base': conda)"
  },
  "language_info": {
   "codemirror_mode": {
    "name": "ipython",
    "version": 3
   },
   "file_extension": ".py",
   "mimetype": "text/x-python",
   "name": "python",
   "nbconvert_exporter": "python",
   "pygments_lexer": "ipython3",
   "version": "3.8.5"
  },
  "interpreter": {
   "hash": "542da9d20d5cb3b4c4e2d9178ace9bd515443c6cfb9d4e385f5251defa7972b0"
  }
 },
 "nbformat": 4,
 "nbformat_minor": 4
}